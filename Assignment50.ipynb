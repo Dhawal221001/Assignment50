{
 "cells": [
  {
   "cell_type": "markdown",
   "id": "2fdb00c9-fff3-4ac8-9064-b793039c8ba6",
   "metadata": {},
   "source": [
    "## Q1. What is Lasso Regression, and how does it differ from other regression techniques?"
   ]
  },
  {
   "cell_type": "markdown",
   "id": "59a4c29c-8327-4d6b-b812-25d03f8603ec",
   "metadata": {},
   "source": [
    "### Lasso regression is a regularization technique. It is used over regression methods for a more accurate prediction. This model uses shrinkage. Shrinkage is where data values are shrunk towards a central point as the mean. The lasso procedure encourages simple, sparse models (i.e. models with fewer parameters). This particular type of regression is well-suited for models showing high levels of multicollinearity or when you want to automate certain parts of model selection, like variable selection/parameter elimination.\n",
    "### Lasso Regression uses L1 regularization technique (will be discussed later in this article). It is used when we have more features because it automatically performs feature selection."
   ]
  },
  {
   "cell_type": "markdown",
   "id": "07e8d48c-c1e2-4b94-8bc6-8c5aa1062a66",
   "metadata": {},
   "source": [
    "## Q2. What is the main advantage of using Lasso Regression in feature selection?"
   ]
  },
  {
   "cell_type": "markdown",
   "id": "c4a83f7a-e486-47c5-b2cb-0466998584a5",
   "metadata": {},
   "source": [
    "###  The main advantage of a LASSO regression model is that it has the ability to set the coefficients for features it does not consider interesting to zero. This means that the model does some automatic feature selection to decide which features should and should not be included on its own."
   ]
  },
  {
   "cell_type": "markdown",
   "id": "13e014a4-747b-4636-8e66-2314a0224601",
   "metadata": {},
   "source": [
    "## Q3. How do you interpret the coefficients of a Lasso Regression model?"
   ]
  },
  {
   "cell_type": "markdown",
   "id": "d6da1f65-6c7c-46de-8173-9b1801624cd3",
   "metadata": {},
   "source": [
    "### In Lasso regression, the regularization penalty can lead to some of the coefficients being shrunk to zero, resulting in a sparse model. The number of non-zero coefficients can be used to evaluate the effectiveness of the regularization and feature selection."
   ]
  },
  {
   "cell_type": "markdown",
   "id": "69d055a1-93c1-45b2-b388-b2551141bfa6",
   "metadata": {},
   "source": [
    "## Q4. What are the tuning parameters that can be adjusted in Lasso Regression, and how do they affect the model's performance?"
   ]
  },
  {
   "cell_type": "markdown",
   "id": "b6ad01ae-06b1-43b3-b834-41561e1743d0",
   "metadata": {},
   "source": [
    "### A tuning parameter (λ), sometimes called a penalty parameter, controls the strength of the penalty term in ridge regression and lasso regression. It is basically the amount of shrinkage, where data values are shrunk towards a central point, like the mean.\n",
    "### As λ increases, bias increases and as λ decreases, variance increases."
   ]
  },
  {
   "cell_type": "markdown",
   "id": "036a0adc-8a09-4a01-8f7b-ce96f4452a0d",
   "metadata": {},
   "source": [
    "## Q5. Can Lasso Regression be used for non-linear regression problems? If yes, how?"
   ]
  },
  {
   "cell_type": "markdown",
   "id": "b1bec051-a883-410c-bfde-9a340281a1a7",
   "metadata": {},
   "source": [
    "### If you can linearize the model, then yes but for an approximate solution in the LS sense since what is measured is y and not any of its possible transforms. If you model is nonlinear because of one parameter, there are things which can be done."
   ]
  },
  {
   "cell_type": "markdown",
   "id": "3bbb8570-7477-45b9-9c59-f079450c928f",
   "metadata": {},
   "source": [
    "## Q6. What is the difference between Ridge Regression and Lasso Regression?"
   ]
  },
  {
   "cell_type": "markdown",
   "id": "7c9251ff-456b-4ef5-97f2-8640cadddb6f",
   "metadata": {},
   "source": [
    "### The cost function for both ridge and lasso regression are similar. However, ridge regression takes the square of the coefficients and lasso takes the magnitude.\n",
    "### Lasso regression can be used for automatic feature selection, as the geometry of its constrained region allows coefficient values to inert to zero.\n",
    "### Lasso tends to make coefficients to absolute zero as compared to Ridge which never sets the value of coefficient to absolute zero."
   ]
  },
  {
   "cell_type": "markdown",
   "id": "489f9239-5ca8-45e8-ba1d-37218793bd55",
   "metadata": {},
   "source": [
    "## Q7. Can Lasso Regression handle multicollinearity in the input features? If yes, how?"
   ]
  },
  {
   "cell_type": "markdown",
   "id": "80e98c4a-9398-4911-aed0-a90b8e56737c",
   "metadata": {},
   "source": [
    "### Tolerant Method for dealing with multicollinearity known as Least Absolute Shrinkage and Selection Operator (LASSO) regression, solves the same constrained optimization problem as ridge regression, but uses the L1 norm rather than the L2 norm as a measure of complexity.\n",
    "### LASSO regression can be visualized similarly to ridge regression, but since it is defined by the sum of absolute values of beta, rather than sum of squares, the area it constrains is diamond shaped rather than circular."
   ]
  },
  {
   "cell_type": "markdown",
   "id": "30bc909c-24e6-4914-8f7d-3a90330e523d",
   "metadata": {},
   "source": [
    "## Q8. How do you choose the optimal value of the regularization parameter (lambda) in Lasso Regression?"
   ]
  },
  {
   "cell_type": "markdown",
   "id": "3659139f-93e3-4d64-b14e-761c0c506387",
   "metadata": {},
   "source": [
    "### Reducing the values of lambda can make the models complex and vice versa. We should find the perfect balance to prevent overfitting. Lambda is a positive value and can range from 0 to positive infinity. But typically chosen to be between 0 and 10.\n",
    "### Cross-validation is a way to tune the hyperparameters using only the training data. There are different variations of cross-validation, but the most common one is 10-Fold Cross-Validation."
   ]
  }
 ],
 "metadata": {
  "kernelspec": {
   "display_name": "Python 3 (ipykernel)",
   "language": "python",
   "name": "python3"
  },
  "language_info": {
   "codemirror_mode": {
    "name": "ipython",
    "version": 3
   },
   "file_extension": ".py",
   "mimetype": "text/x-python",
   "name": "python",
   "nbconvert_exporter": "python",
   "pygments_lexer": "ipython3",
   "version": "3.10.8"
  }
 },
 "nbformat": 4,
 "nbformat_minor": 5
}
